{
 "cells": [
  {
   "cell_type": "code",
   "execution_count": 1,
   "id": "finished-suffering",
   "metadata": {
    "ExecuteTime": {
     "end_time": "2021-03-09T20:03:31.522235Z",
     "start_time": "2021-03-09T20:03:30.971212Z"
    }
   },
   "outputs": [],
   "source": [
    "import collections\n",
    "import copy\n",
    "import json\n",
    "import os\n",
    "import random\n",
    "import time\n",
    "import math\n",
    "\n",
    "import numpy as np\n",
    "import torch\n",
    "import torch.distributions as D\n",
    "import torch.nn as nn\n",
    "import torch.nn.functional as F\n",
    "from tqdm import trange\n",
    "\n",
    "device = torch.device(\"cuda\" if torch.cuda.is_available() else \"cpu\")"
   ]
  },
  {
   "cell_type": "code",
   "execution_count": 2,
   "id": "described-campus",
   "metadata": {
    "ExecuteTime": {
     "end_time": "2021-03-09T20:03:31.702323Z",
     "start_time": "2021-03-09T20:03:31.523953Z"
    }
   },
   "outputs": [],
   "source": [
    "import matplotlib.pyplot as plt\n",
    "from IPython.display import clear_output\n",
    "%matplotlib inline"
   ]
  },
  {
   "cell_type": "code",
   "execution_count": 3,
   "id": "abandoned-proceeding",
   "metadata": {
    "ExecuteTime": {
     "end_time": "2021-03-09T20:03:31.744007Z",
     "start_time": "2021-03-09T20:03:31.704679Z"
    }
   },
   "outputs": [
    {
     "name": "stdout",
     "output_type": "stream",
     "text": [
      "[[-1. -1. -1. -1. -1. -1. -1. -1. -1. -1.]\n",
      " [-1.  0.  0.  0.  0.  0.  0.  0.  0. -1.]\n",
      " [-1.  0.  0.  0.  0.  0.  0.  0.  0. -1.]\n",
      " [-1.  0.  0.  0.  0.  0.  0.  0.  0. -1.]\n",
      " [-1.  0.  0.  0.  0.  0.  0.  0.  0. -1.]\n",
      " [-1.  0.  0.  0.  0.  0.  0.  0.  0. -1.]\n",
      " [-1.  0.  0.  0.  0.  0.  0.  0.  0. -1.]\n",
      " [-1.  0.  0.  0.  0.  0.  0.  0.  0. -1.]\n",
      " [-1.  1.  0.  0.  0.  0.  0.  0.  0. -1.]\n",
      " [-1. -1. -1. -1. -1. -1. -1. -1. -1. -1.]]\n"
     ]
    }
   ],
   "source": [
    "# Environment definitions\n",
    "EMPTY = 0\n",
    "WALL = -1\n",
    "START = 1\n",
    "TYPE = {\" \": EMPTY, \"#\": WALL, \"S\": START}\n",
    "VIEW = {v: k for k, v in TYPE.items()}\n",
    "VIEW[EMPTY] = \" \"\n",
    "VIEW[START] = \" \"\n",
    "\n",
    "all_config = {\n",
    "             1: ( \"##########\\\\\"\n",
    "                + \"#        #\\\\\"\n",
    "                + \"# ###### #\\\\\"\n",
    "                + \"#    #   #\\\\\"\n",
    "                + \"#    #   #\\\\\"\n",
    "                + \"# ##### ##\\\\\"\n",
    "                + \"#    #   #\\\\\"\n",
    "                + \"#    #   #\\\\\"\n",
    "                + \"#S   #   #\\\\\"\n",
    "                + \"##########\\\\\"),\n",
    "    \n",
    "             2: ( \"##########\\\\\"\n",
    "                + \"#        #\\\\\"\n",
    "                + \"#        #\\\\\"\n",
    "                + \"#        #\\\\\"\n",
    "                + \"#        #\\\\\"\n",
    "                + \"#        #\\\\\"\n",
    "                + \"#        #\\\\\"\n",
    "                + \"#        #\\\\\"\n",
    "                + \"#S       #\\\\\"\n",
    "                + \"##########\\\\\"),\n",
    "\n",
    "             3: ( \"##########\\\\\"\n",
    "                + \"#        #\\\\\"\n",
    "                + \"#        #\\\\\"\n",
    "                + \"#  ### ###\\\\\"\n",
    "                + \"#    #   #\\\\\"\n",
    "                + \"#    #   #\\\\\"\n",
    "                + \"#  ### ###\\\\\"\n",
    "                + \"#    #   #\\\\\"\n",
    "                + \"#S   #   #\\\\\"\n",
    "                + \"##########\\\\\"),\n",
    "    \n",
    "             4: ( \"##########\\\\\"\n",
    "                + \"#        #\\\\\"\n",
    "                + \"#        #\\\\\"\n",
    "                + \"# ###### #\\\\\"\n",
    "                + \"#    #   #\\\\\"\n",
    "                + \"#    #   #\\\\\"\n",
    "                + \"# ###### #\\\\\"\n",
    "                + \"#    #   #\\\\\"\n",
    "                + \"#S   #   #\\\\\"\n",
    "                + \"##########\\\\\"),\n",
    "    \n",
    "             5: ( \"##########\\\\\"\n",
    "                + \"#        #\\\\\"\n",
    "                + \"#        #\\\\\"\n",
    "                + \"# ###### #\\\\\"\n",
    "                + \"#   ##   #\\\\\"\n",
    "                + \"#   ##   #\\\\\"\n",
    "                + \"# ###### #\\\\\"\n",
    "                + \"#   ##   #\\\\\"\n",
    "                + \"#S  ##   #\\\\\"\n",
    "                + \"##########\\\\\"),\n",
    "                 \n",
    "             6: ( \"##########\\\\\"\n",
    "                + \"#        #\\\\\"\n",
    "                + \"#        #\\\\\"\n",
    "                + \"#  ### ###\\\\\"\n",
    "                + \"#    #   #\\\\\"\n",
    "                + \"#    #   #\\\\\"\n",
    "                + \"#  ### ###\\\\\"\n",
    "                + \"#    #   #\\\\\"\n",
    "                + \"#S   #   #\\\\\"\n",
    "                + \"##########\\\\\")\n",
    "}\n",
    "\n",
    "mapconfig = all_config[2]\n",
    "\n",
    "if mapconfig.endswith(\"\\\\\"):\n",
    "    mapconfig = mapconfig[:-1]\n",
    "config = mapconfig.split(\"\\\\\")\n",
    "config_size = np.array([len(c) for c in config])\n",
    "grid_size = len(config_size)\n",
    "assert np.all(config_size == config_size[0])\n",
    "maze_map = np.zeros((grid_size, grid_size))\n",
    "for h in range(grid_size):\n",
    "    for w in range(grid_size):\n",
    "        maze_map[h, w] = TYPE[config[h][w]]\n",
    "print(maze_map)\n",
    "\n",
    "def set_rfunc(rfunc):\n",
    "    for h in range(grid_size):\n",
    "        for w in range(grid_size):\n",
    "            if maze_map[w, h] == WALL:\n",
    "                rfunc[w, h] = 0.0\n",
    "    return rfunc\n",
    "\n",
    "num_actions = 4\n",
    "mb_size = 32\n",
    "num_states = grid_size ** 2"
   ]
  },
  {
   "cell_type": "code",
   "execution_count": 4,
   "id": "increased-range",
   "metadata": {
    "ExecuteTime": {
     "end_time": "2021-03-09T20:03:31.772501Z",
     "start_time": "2021-03-09T20:03:31.745705Z"
    }
   },
   "outputs": [],
   "source": [
    "def get_obs(state):\n",
    "  return np.eye(num_states)[state]\n",
    "\n",
    "def get_rc(state):\n",
    "  row = state//grid_size\n",
    "  col = state % grid_size\n",
    "  return row, col\n",
    "\n",
    "def get_s(row, col):\n",
    "  return row*grid_size+col\n",
    "\n",
    "def reset(size=mb_size, start_state=None):        \n",
    "    if start_state is not None:\n",
    "        state = start_state * np.ones([size], dtype=np.int)\n",
    "    elif np.sum(np.where(maze_map == START)) != 0:\n",
    "        row, col = np.where(maze_map == START)\n",
    "        ind = np.random.choice(np.arange(col.shape[0]), size=size)\n",
    "        state = get_s(row[ind], col[ind])\n",
    "    else:\n",
    "        nowall = np.array([x for x in np.arange(num_states) if maze_map[get_rc(x)] != WALL])\n",
    "        state = np.random.choice(nowall, size=size)\n",
    "    return state\n",
    "\n",
    "def step(state, action):\n",
    "    row, col = get_rc(state)\n",
    "    # a0:up\n",
    "    new_r = np.where(action == 0, row - 1, row)\n",
    "    new_r = np.where(maze_map[new_r, col] != WALL, new_r, row)\n",
    "    # a1:left\n",
    "    new_c = np.where(action == 1, col - 1, col)\n",
    "    new_c = np.where(maze_map[new_r, new_c] != WALL, new_c, col)\n",
    "    # a2:down\n",
    "    old_r = new_r\n",
    "    new_r = np.where(action == 2, new_r + 1, new_r)\n",
    "    new_r = np.where(maze_map[new_r, new_c] != WALL, new_r, old_r)\n",
    "    # a3:right\n",
    "    old_c = new_c\n",
    "    new_c = np.where(action == 3, new_c + 1, new_c)\n",
    "    new_c = np.where(maze_map[new_r, new_c] != WALL, new_c, old_c)\n",
    "    # clip\n",
    "    new_r[new_r >= grid_size] = grid_size - 1\n",
    "    new_r[new_r < 0] = 0\n",
    "    new_c[new_c >= grid_size] = grid_size - 1\n",
    "    new_c[new_c < 0] = 0\n",
    "    return get_s(new_r, new_c)"
   ]
  },
  {
   "cell_type": "code",
   "execution_count": 5,
   "id": "daily-twist",
   "metadata": {
    "ExecuteTime": {
     "end_time": "2021-03-09T20:03:34.240342Z",
     "start_time": "2021-03-09T20:03:31.774480Z"
    }
   },
   "outputs": [],
   "source": [
    "# Algorithm training code\n",
    "# The code is consistent with code used for other domains\n",
    "def soft_update(target, source, tau):\n",
    "    for t, s in zip(target.parameters(), source.parameters()):\n",
    "        t.data.copy_(t.data * (1.0 - tau) + s.data * tau)\n",
    "\n",
    "\n",
    "def hard_update(target, source):\n",
    "    target.load_state_dict(source.state_dict())\n",
    "\n",
    "\n",
    "def grad_false(network):\n",
    "    for param in network.parameters():\n",
    "        param.requires_grad = False\n",
    "\n",
    "        \n",
    "def trunc_normal_(tensor, mean = 0., std = 1., a = -2., b= 2.):\n",
    "    # https://github.com/pytorch/pytorch/blob/316eabe9baf577bc29c379c4502bf9bf3090507e/torch/nn/init.py#L22\n",
    "    def norm_cdf(x):\n",
    "        return (1. + math.erf(x / math.sqrt(2.))) / 2.\n",
    "    if (mean < a - 2 * std) or (mean > b + 2 * std):\n",
    "        warnings.warn(\"mean is more than 2 std from [a, b] in nn.init.trunc_normal_. \"\n",
    "                      \"The distribution of values may be incorrect.\", stacklevel=2)\n",
    "    with torch.no_grad():\n",
    "        l = norm_cdf((a - mean) / std)\n",
    "        u = norm_cdf((b - mean) / std)\n",
    "        tensor.uniform_(2 * l - 1, 2 * u - 1)\n",
    "        tensor.erfinv_()\n",
    "        tensor.mul_(std * math.sqrt(2.))\n",
    "        tensor.add_(mean)\n",
    "        tensor.clamp_(min=a, max=b)\n",
    "        return tensor\n",
    "    \n",
    "    \n",
    "def weight_init(m):\n",
    "    if isinstance(m, nn.Linear):\n",
    "        # nn.init.orthogonal_(m.weight.data)\n",
    "        mean, std =0., 1/np.sqrt(m.weight.data.shape[1])\n",
    "        m.weight.data = trunc_normal_(m.weight.data, mean, std)\n",
    "        if hasattr(m.bias, \"data\"):\n",
    "            m.bias.data.fill_(0.0)\n",
    "    elif isinstance(m, nn.Conv2d) or isinstance(m, nn.ConvTranspose2d):\n",
    "        gain = nn.init.calculate_gain(\"relu\")\n",
    "        nn.init.orthogonal_(m.weight.data, gain)\n",
    "        if hasattr(m.bias, \"data\"):\n",
    "            m.bias.data.fill_(0.0)\n",
    "\n",
    "    \n",
    "class THRMS(object):\n",
    "    def __init__(self, epsilon=1e-4, shape=(1,)):\n",
    "        self.M = torch.zeros(shape).to(device)\n",
    "        self.S = torch.ones(shape).to(device)\n",
    "        self.n = epsilon\n",
    "\n",
    "    def __call__(self, x):\n",
    "        bs = x.size(0)\n",
    "        delta = torch.mean(x, dim=0) - self.M\n",
    "        new_M = self.M + delta * bs / (self.n + bs)\n",
    "        new_S = (self.S * self.n + torch.var(x, dim=0) * bs + torch.square(delta) * self.n * bs / (self.n + bs)) / (self.n + bs)\n",
    "\n",
    "        self.M = new_M\n",
    "        self.S = new_S\n",
    "        self.n += bs\n",
    "\n",
    "        return self.M, self.S\n",
    "\n",
    "\n",
    "thrms = THRMS()\n",
    "\n",
    "\n",
    "def compute_apt_reward(source, target, args):\n",
    "    try:  # torch if allowed\n",
    "        b1, b2, n = source.size(0), target.size(0), args.en_num\n",
    "        # (b1, 1, n*c) - (1, b2, n*c) -> (b1, 1, n, c) - (1, b2, n, c) -> (b1, b2, n, c) -> (b1, b2, n)\n",
    "        sim_matrix = torch.norm(source[:, None, :].view(b1, 1, n, -1) - target[None, :, :].view(1, b2, n, -1), dim=-1, p=2)\n",
    "        reward, _ = sim_matrix.topk(args.knn_k, dim=1, largest=False, sorted=True)  # (b1, k, n)\n",
    "    except:  # numpy if cuda OOM\n",
    "        source, target = source.cpu().numpy(), target.cpu().numpy()\n",
    "        b1, b2, n = source.shape[0], target.shape[0], args.en_num\n",
    "        # (b1, 1, n*c) - (1, b2, n*c) -> (b1, 1, n, c) - (1, b2, n, c) -> (b1, b2, n, c) -> (b1, b2, n)\n",
    "        sim_matrix = np.linalg.norm(source[:, None, :].reshape(b1, 1, n, -1) - target[None, :, :].reshape(1, b2, n, -1), axis=-1, ord=2)\n",
    "        reward = np.partition(sim_matrix, args.knn_k, axis=1)[:, : args.knn_k, :]  # (b1, k, n)\n",
    "        reward = torch.FloatTensor(reward).to(device)\n",
    "\n",
    "    if not args.knn_avg:  # only keep k-th nearest neighbor\n",
    "        reward = reward[:, 0, :]\n",
    "        reward = reward.reshape(-1, 1)  # (b1 * n, 1)\n",
    "        moving_mean, moving_std = thrms(reward)\n",
    "        reward = reward / moving_std\n",
    "        reward = torch.maximum(reward - args.knn_clip, torch.zeros_like(reward).to(device))\n",
    "        reward = reward.reshape((b1, n))  # (b1, n)\n",
    "    else:  # average over all k nearest neighbors\n",
    "        reward = reward.reshape(-1, 1)  # (b1 * k *n, 1)\n",
    "        moving_mean, moving_std = thrms(reward)\n",
    "        reward = reward / moving_std\n",
    "        reward = torch.maximum(reward - args.knn_clip, torch.zeros_like(reward).to(device))\n",
    "        reward = reward.reshape((b1, args.knn_k, n))  # (b1, k, n)\n",
    "        reward = reward.mean(dim=1)  # (b1, n)\n",
    "    reward = torch.log(reward + 1.0)\n",
    "    reward = reward.reshape(b1, -1).mean(dim=1).unsqueeze(1)  # (b1, n) -> (b1, 1)\n",
    "    return reward\n",
    "\n",
    "\n",
    "class Buffer(object):\n",
    "    def __init__(self, args):\n",
    "        self.ptr = 0\n",
    "        self.size = 0\n",
    "        self.max_size = args.max_size\n",
    "        self.knn_bs = args.knn_bs\n",
    "        self.tgt = args.tgt\n",
    "        self.num_states = args.num_states\n",
    "        self.sfeat_dim = args.sfeat_dim\n",
    "\n",
    "        self.state = np.empty((args.max_size, args.batch_env_size), dtype=np.int)\n",
    "        self.action = np.empty((args.max_size, args.batch_env_size), dtype=np.int)\n",
    "        self.next_state = np.empty((args.max_size, args.batch_env_size), dtype=np.int)\n",
    "        self.task = np.empty((args.max_size, args.batch_env_size, args.sfeat_dim), dtype=np.float32)\n",
    "        \n",
    "        self.ptr2 = 0\n",
    "        self.size2 = 0\n",
    "        self.max_size2 = int(1e5)\n",
    "        self.state2 = np.empty((self.max_size2, args.batch_env_size), dtype=np.int)\n",
    "        self.next_state2 = np.empty((self.max_size2, args.batch_env_size), dtype=np.int)\n",
    "\n",
    "    def add(self, state, action, next_state, task):\n",
    "        self.state[self.ptr] = state\n",
    "        self.action[self.ptr] = action\n",
    "        self.next_state[self.ptr] = next_state\n",
    "        self.task[self.ptr] = task\n",
    "\n",
    "        self.ptr = (self.ptr + 1) % self.max_size\n",
    "        self.size = min(self.size + 1, self.max_size)\n",
    "        \n",
    "        self.state2[self.ptr2] = state\n",
    "        self.next_state2[self.ptr2] = next_state\n",
    "        \n",
    "        self.ptr2 = (self.ptr2 + 1) % self.max_size2\n",
    "        self.size2 = min(self.size2 + 1, self.max_size2)\n",
    "\n",
    "    def sample(self, batch_size):\n",
    "        if self.tgt == \"i\":\n",
    "            ind = np.random.choice(self.size, size=batch_size, replace=False) if 0 < batch_size <= self.size else np.arange(self.size)\n",
    "            next_state = self.next_state[ind]\n",
    "        elif self.tgt == \"s\":\n",
    "            ind = np.random.choice(self.size, size=batch_size, replace=False) if 0 < batch_size <= self.size else np.arange(self.size)\n",
    "            tgt_ind = np.arange(self.size2)\n",
    "            tgt_ind = np.random.choice(self.size2, size=self.knn_bs, replace=False) if 0 < self.knn_bs <= self.size2 else np.arange(self.size2)\n",
    "            next_state = self.next_state2[tgt_ind]\n",
    "        return (\n",
    "            F.one_hot(torch.LongTensor(self.state[ind].reshape(-1)), self.num_states).float().to(device),\n",
    "            torch.LongTensor(self.action[ind]).reshape(-1, 1).to(device),\n",
    "            F.one_hot(torch.LongTensor(self.next_state[ind]).reshape(-1), self.num_states).float().to(device),\n",
    "            F.one_hot(torch.LongTensor(next_state.reshape(-1)), self.num_states).float().to(device),\n",
    "            torch.FloatTensor(self.task[ind].reshape(-1, self.sfeat_dim)).to(device),\n",
    "        )\n",
    "\n",
    "class Critic(nn.Module):\n",
    "    def __init__(self, args):\n",
    "        super().__init__()\n",
    "        self.gpi_num = args.gpi_num\n",
    "        self.fc_vfeat = nn.Sequential(nn.Linear(args.num_states + args.sfeat_dim, args.critic_hs), nn.ReLU(), nn.Linear(args.critic_hs, args.critic_hs), nn.ReLU(), nn.Linear(args.critic_hs, args.sfeat_dim * args.num_actions))\n",
    "        self.sfeat_dim = args.sfeat_dim\n",
    "        self.apply(weight_init)\n",
    "\n",
    "    def forward(self, state, task, gpi=False, feat=False):\n",
    "        assert not (gpi and feat), \"gpi for action, feat for loss\"\n",
    "        sat = torch.cat([state, task], -1) # (b, h + s)\n",
    "        vfeat = self.fc_vfeat(sat).view(state.size(0), self.sfeat_dim, -1)  # (b, h, a)\n",
    "        if feat:\n",
    "            return vfeat\n",
    "        q = torch.einsum(\"bha, bh->ba\", vfeat, task)  # (b, a)\n",
    "        if gpi:\n",
    "            gpi_task = torch.randn((self.gpi_num, task.size(0), task.size(1))).to(device)\n",
    "            gpi_task = gpi_task / torch.norm(gpi_task, dim=-1, keepdim=True) # (z, b, h)\n",
    "            gpi_state = state.unsqueeze(0).repeat(self.gpi_num, 1, 1)  # (z, b, s)\n",
    "            gpi_sat = torch.cat([gpi_state, gpi_task], -1)  # (z, b, s+h)\n",
    "            gpi_vfeat = self.fc_vfeat(gpi_sat).view(self.gpi_num, state.size(0), self.sfeat_dim, -1)  # (z, b, h, a)\n",
    "            gpi_q = torch.einsum(\"zbha, zbh->zba\", gpi_vfeat, gpi_task)\n",
    "            gpi_q = torch.cat([gpi_q, q.unsqueeze(0)], dim=0)  # ((z+1), b, a)\n",
    "            q = torch.max(gpi_q, dim=0)[0]  # (b, a)\n",
    "\n",
    "        return q\n",
    "\n",
    "\n",
    "class RewardFeat(nn.Module):\n",
    "    def __init__(self, args):\n",
    "        super().__init__()\n",
    "        self.fc = nn.Sequential(nn.Linear(args.num_states, args.sfeat_hs), nn.ReLU(), nn.Linear(args.sfeat_hs, args.sfeat_dim))\n",
    "        self.apply(weight_init)\n",
    "        \n",
    "    def forward(self, state, unnorm=False):\n",
    "        sfeat = self.fc(state)\n",
    "        return sfeat if unnorm else F.normalize(sfeat, dim=-1)\n",
    "\n",
    "\n",
    "class Algo(object):\n",
    "    def __init__(self, args):\n",
    "        self.critic = Critic(args).to(device)\n",
    "        self.critic_optimizer = torch.optim.Adam(self.critic.parameters(), lr=args.lr, eps=1e-5)\n",
    "\n",
    "        self.action_range = args.action_range\n",
    "        self.total_it = 0\n",
    "        self.epsilon = args.epsilon\n",
    "\n",
    "        self.sfeat = RewardFeat(args).to(device)\n",
    "        if not args.rand_sfeat:\n",
    "            self.sfeat_optimizer = torch.optim.Adam(self.sfeat.parameters(), lr=10. * args.lr)\n",
    "        else:\n",
    "            grad_false(self.sfeat)\n",
    "        self.sfeat_dim = args.sfeat_dim\n",
    "\n",
    "    def select_action(self, state, task, stochastic, gpi=True):\n",
    "        state = torch.FloatTensor(state).to(device)\n",
    "        with torch.no_grad():\n",
    "            current_Q = self.critic(state, task, gpi=gpi)\n",
    "            action = torch.argmax(current_Q, -1).long()\n",
    "            action = action.clamp(*self.action_range)\n",
    "            action = action.cpu().data.numpy().flatten()\n",
    "            if stochastic:\n",
    "                rand_action = np.random.randint(self.action_range[0], self.action_range[1] + 1, size=state.size(0)) \n",
    "                action = np.where(np.random.rand(state.size(0)) > self.epsilon, action, rand_action)\n",
    "        return action\n",
    "\n",
    "    def select_task(self, size):\n",
    "        task = torch.randn(size).to(device)\n",
    "        task = task / torch.norm(task, dim=-1, keepdim=True)\n",
    "        return task\n",
    "\n",
    "    def apt_reward(self, next_state, next_state_2, t, args):\n",
    "        if args.enc == \"r\":\n",
    "            with torch.no_grad():\n",
    "                source = self.sfeat(next_state, unnorm=True)\n",
    "                target = self.sfeat(next_state_2, unnorm=True)\n",
    "                reward = compute_apt_reward(source, target, args)\n",
    "        elif args.enc == \"z\":\n",
    "            reward = torch.zeros(next_state.size(0), 1).to(device)\n",
    "        return reward\n",
    "\n",
    "    def train(self, buffer, t, args):\n",
    "        self.total_it += 1\n",
    "\n",
    "        # optimize critic\n",
    "        state, action, next_state, next_state_2, task = buffer.sample(args.batch_size)\n",
    "        with torch.no_grad():\n",
    "            apt_reward = self.apt_reward(next_state, next_state_2, t, args)\n",
    "            cent_reward = self.sfeat(state)  # (b, h)\n",
    "            reward = apt_reward * task + cent_reward  # (b, h)\n",
    "            next_action = self.critic(next_state, task).argmax(-1).view(-1, 1).long()  # (b, a) -> (b, 1)\n",
    "            target_Q = (\n",
    "                self.critic(next_state, task, feat=True).gather(-1, next_action.unsqueeze(-1).repeat(1, args.sfeat_dim, 1)).squeeze(-1)\n",
    "            )  # (b, h, a), (b, h, 1) -> (b, h, 1) -> (b, h)\n",
    "            target_Q = reward + args.gamma * target_Q  # (b, h) + (b, h)\n",
    "\n",
    "        current_Q = (\n",
    "            self.critic(state, task, feat=True).gather(-1, action.unsqueeze(-1).repeat(1, args.sfeat_dim, 1)).squeeze(-1)\n",
    "        )  # (b, h, a) -> (b, h)\n",
    "        critic_loss = F.mse_loss(current_Q, target_Q)\n",
    "\n",
    "        self.critic_optimizer.zero_grad()\n",
    "        critic_loss.backward()\n",
    "        self.critic_optimizer.step()\n",
    "        \n",
    "        # optimize state feature\n",
    "        if not args.rand_sfeat:\n",
    "            sfeat_loss = torch.mean(1.-torch.sum(self.sfeat(next_state) * task, -1))\n",
    "            self.sfeat_optimizer.zero_grad()\n",
    "            sfeat_loss.backward()\n",
    "            self.sfeat_optimizer.step()\n",
    "        else:\n",
    "            sfeat_loss = torch.zeros(1).to(device)\n",
    "            \n",
    "        return critic_loss.detach().item(), sfeat_loss.detach().item()"
   ]
  },
  {
   "cell_type": "code",
   "execution_count": 6,
   "id": "controlled-architect",
   "metadata": {
    "ExecuteTime": {
     "end_time": "2021-03-09T20:03:34.259705Z",
     "start_time": "2021-03-09T20:03:34.242936Z"
    }
   },
   "outputs": [],
   "source": [
    "class Args:\n",
    "    max_size = 40\n",
    "    max_timesteps = int(3e4) + 1\n",
    "    enable_cudnn = False\n",
    "    max_epilen = 40\n",
    "    seed = 1\n",
    "    lr = 1e-4\n",
    "    batch_size = -1\n",
    "    start_timesteps = 0\n",
    "    critic_hs = 100\n",
    "    gamma = 0.95\n",
    "    tgt = \"s\" # \"i\" for mini-batch / \"s\" for mini-batch and buffer\n",
    "    sfeat_hs = 100 # hidden size of state feature encoder\n",
    "    sfeat_dim = 5 # dimension of state feature representations\n",
    "    rand_sfeat = False\n",
    "    gpi_num = 10 # number of gpi\n",
    "    batch_env_size = mb_size\n",
    "    epsilon = 0.1 \n",
    "    enc = \"r\" # \"r\" for using state feature as knn embeddings / \"z\" for no H(s) reward\n",
    "    en_num = 1 \n",
    "    knn_bs = 256 # batch size from buffer when tgt = \"s\"\n",
    "    knn_avg = True # average the top k nns\n",
    "    knn_k = 16 # top k of nearest neighbors\n",
    "    knn_clip = 0.0003 # nearest neighbor clipping\n",
    "    \n",
    "args = Args()\n",
    "args.num_states = num_states\n",
    "args.num_actions = num_actions\n",
    "args.action_range = [0, args.num_actions - 1]"
   ]
  },
  {
   "cell_type": "code",
   "execution_count": 7,
   "id": "beginning-double",
   "metadata": {
    "ExecuteTime": {
     "end_time": "2021-03-09T20:36:10.025833Z",
     "start_time": "2021-03-09T20:03:34.261399Z"
    }
   },
   "outputs": [
    {
     "data": {
      "image/png": "[encoded data removed]",
      "text/plain": [
       "<Figure size 432x288 with 4 Axes>"
      ]
     },
     "metadata": {
      "needs_background": "light"
     },
     "output_type": "display_data"
    },
    {
     "name": "stderr",
     "output_type": "stream",
     "text": [
      "100%|██████████| 30001/30001 [32:35<00:00, 15.34it/s]\n"
     ]
    },
    {
     "data": {
      "text/plain": [
       "[<matplotlib.lines.Line2D at 0x7ffa2024c5c0>]"
      ]
     },
     "execution_count": 7,
     "metadata": {},
     "output_type": "execute_result"
    },
    {
     "data": {
      "image/png": "[encoded data removed]",
      "text/plain": [
       "<Figure size 432x288 with 2 Axes>"
      ]
     },
     "metadata": {
      "needs_background": "light"
     },
     "output_type": "display_data"
    }
   ],
   "source": [
    "torch.backends.cudnn.benchmark = True\n",
    "torch.backends.cudnn.enabled = args.enable_cudnn\n",
    "torch.manual_seed(args.seed)\n",
    "np.random.seed(args.seed)\n",
    "random.seed(args.seed)\n",
    "if torch.cuda.is_available():\n",
    "    torch.cuda.manual_seed(args.seed)\n",
    "    torch.cuda.manual_seed_all(args.seed)\n",
    "\n",
    "algo = Algo(args)\n",
    "buffer = Buffer(args)\n",
    "\n",
    "state = reset()\n",
    "task = algo.select_task((args.batch_env_size, args.sfeat_dim))\n",
    "state_visit = np.ones([num_states])\n",
    "cur_visit = np.ones([num_states])\n",
    "critic_hist, sfeat_hist = [], []\n",
    "\n",
    "for t in trange(1, args.max_timesteps + 1):\n",
    "    for _ in range(args.max_epilen):\n",
    "        action = algo.select_action(np.eye(args.num_states, dtype=np.int)[state], task, stochastic=True, gpi=True)\n",
    "        next_state = step(state, action)\n",
    "        buffer.add(state, action, next_state, task.cpu())\n",
    "        state = next_state\n",
    "\n",
    "        visit, count = np.unique(state, return_counts=True)\n",
    "        cur_visit[visit] += count\n",
    "        state_visit[visit] += count\n",
    "    \n",
    "    state = reset()\n",
    "    task = algo.select_task((args.batch_env_size, args.sfeat_dim))\n",
    "    \n",
    "    cur_critic_loss, cur_sfeat_loss = algo.train(buffer, t, args)\n",
    "    critic_hist.append(cur_critic_loss)\n",
    "    sfeat_hist.append(cur_sfeat_loss)\n",
    "    \n",
    "    plt_freq = 100\n",
    "    if t % plt_freq == 1:\n",
    "        all_state = torch.FloatTensor(np.eye(num_states)[np.arange(num_states)]).to(device)\n",
    "        with torch.no_grad():\n",
    "            _task = algo.select_task((1, args.sfeat_dim)).repeat(num_states, 1)\n",
    "            per_state_q = algo.critic(all_state, _task)\n",
    "            per_state_q = per_state_q.cpu().numpy()\n",
    "\n",
    "        max_value_img = np.mean(per_state_q, -1).reshape([grid_size, grid_size])\n",
    "        policy = np.argmax(per_state_q, -1)\n",
    "\n",
    "        clear_output(wait=True)\n",
    "        plt.figure(0)\n",
    "        plt.subplot(221)\n",
    "        plt.title('log visitation')\n",
    "        plt.axis('off')\n",
    "        plt.imshow(np.log(state_visit.reshape([grid_size, grid_size])), interpolation='none', aspect='equal')\n",
    "        plt.subplot(222)\n",
    "        plt.title('log visitation now')\n",
    "        plt.axis('off')\n",
    "        plt.imshow(np.log(cur_visit.reshape([grid_size, grid_size])), interpolation='none', aspect='equal')\n",
    "        plt.subplot(223)\n",
    "        plt.title('max q value (rand task)')\n",
    "        plt.axis('off')\n",
    "        plt.imshow(max_value_img, interpolation='none', aspect='equal')\n",
    "        plt.subplot(224)\n",
    "        plt.title('policy (rand task)')\n",
    "        plt.axis('off')\n",
    "        plt.imshow(policy.reshape([grid_size, grid_size]), interpolation='none', aspect='equal')\n",
    "        plt.show()\n",
    "        cur_visit = np.ones([num_states])\n",
    "        \n",
    "plt.subplot(121)\n",
    "plt.title(\"critic loss\")\n",
    "plt.plot(critic_hist)\n",
    "plt.subplot(122)\n",
    "plt.title(\"state feature loss\")\n",
    "plt.plot(sfeat_hist)"
   ]
  },
  {
   "cell_type": "code",
   "execution_count": 8,
   "id": "regional-hydrogen",
   "metadata": {
    "ExecuteTime": {
     "end_time": "2021-03-09T20:36:10.321435Z",
     "start_time": "2021-03-09T20:36:10.027955Z"
    }
   },
   "outputs": [
    {
     "name": "stderr",
     "output_type": "stream",
     "text": [
      "/home/hao/.conda/envs/hh36/lib/python3.6/site-packages/ipykernel_launcher.py:16: FutureWarning: `rcond` parameter will change to the default of machine precision times ``max(M, N)`` where M and N are the input matrix dimensions.\n",
      "To use the future default and silence this warning we advise to pass `rcond=None`, to keep using the old, explicitly pass `rcond=-1`.\n",
      "  app.launch_new_instance()\n",
      "100%|██████████| 40/40 [00:00<00:00, 1542.79it/s]\n"
     ]
    },
    {
     "data": {
      "text/plain": [
       "<matplotlib.image.AxesImage at 0x7ffa08429ba8>"
      ]
     },
     "execution_count": 8,
     "metadata": {},
     "output_type": "execute_result"
    },
    {
     "data": {
      "image/png": "[encoded data removed]",
      "text/plain": [
       "<Figure size 432x288 with 6 Axes>"
      ]
     },
     "metadata": {
      "needs_background": "light"
     },
     "output_type": "display_data"
    }
   ],
   "source": [
    "# fast inference on a random reward function\n",
    "# specify a random reward function\n",
    "r = np.zeros([grid_size, grid_size])\n",
    "num_boxes = 2\n",
    "box_size = 4\n",
    "for _ in range(num_boxes):\n",
    "    box_c = np.random.randint(grid_size-box_size)\n",
    "    box_r = np.random.randint(grid_size-box_size)\n",
    "    r[box_r: box_r+box_size, box_c: box_c+box_size] += 1.0\n",
    "r = set_rfunc(r)\n",
    "r = np.reshape(r, [num_states])\n",
    "\n",
    "all_state = torch.FloatTensor(np.eye(num_states)[np.arange(num_states)]).to(device)\n",
    "with torch.no_grad():\n",
    "    per_state_sfeat = algo.sfeat(all_state).cpu().numpy()\n",
    "    task, res, _, _ = np.linalg.lstsq(per_state_sfeat, r)\n",
    "    task /= np.linalg.norm(task)\n",
    "    task_torch = torch.FloatTensor(task).unsqueeze(0).repeat(num_states, 1).to(device)\n",
    "    per_state_q = algo.critic(all_state, task_torch, gpi=False)\n",
    "    per_state_q = per_state_q.cpu().numpy()\n",
    "    \n",
    "max_value_img = np.mean(per_state_q, -1).reshape([grid_size, grid_size])\n",
    "policy = np.argmax(per_state_q, -1)\n",
    "state_visit = np.ones([num_states])\n",
    "state = reset(size=10000)\n",
    "for t in trange(args.max_epilen):\n",
    "    state = step(state, policy[state])\n",
    "    visit, count = np.unique(state, return_counts=True)\n",
    "    state_visit[visit] += count\n",
    "\n",
    "plt.figure(0)\n",
    "plt.subplot(231)\n",
    "plt.title('true reward')\n",
    "plt.axis('off')\n",
    "plt.imshow(r.reshape([grid_size, grid_size]), interpolation='none', aspect='equal')\n",
    "plt.subplot(232)\n",
    "plt.title('imagined reward')\n",
    "plt.axis('off')\n",
    "plt.imshow(np.dot(per_state_sfeat, task).reshape([grid_size, grid_size]), interpolation='none', aspect='equal')\n",
    "plt.subplot(233)\n",
    "plt.title('max q value')\n",
    "plt.axis('off')\n",
    "plt.imshow(max_value_img, interpolation='none', aspect='equal')\n",
    "plt.subplot(234)\n",
    "plt.title('log visitation')\n",
    "plt.axis('off')\n",
    "plt.imshow(np.log(state_visit.reshape([grid_size, grid_size])), interpolation='none', aspect='equal')\n",
    "plt.subplot(235)\n",
    "plt.title('current task')\n",
    "plt.plot([0, task[0]], [0, task[1]])\n",
    "plt.xlim([-1, 1])\n",
    "plt.ylim([-1, 1])\n",
    "plt.subplot(236)\n",
    "plt.title('policy')\n",
    "plt.axis('off')\n",
    "plt.imshow(policy.reshape([grid_size, grid_size]), interpolation='none', aspect='equal')"
   ]
  },
  {
   "cell_type": "code",
   "execution_count": 9,
   "id": "portable-source",
   "metadata": {
    "ExecuteTime": {
     "end_time": "2021-03-09T20:36:20.086515Z",
     "start_time": "2021-03-09T20:36:10.323195Z"
    }
   },
   "outputs": [
    {
     "data": {
      "image/png": "[encoded data removed]",
      "text/plain": [
       "<Figure size 432x288 with 5 Axes>"
      ]
     },
     "metadata": {
      "needs_background": "light"
     },
     "output_type": "display_data"
    }
   ],
   "source": [
    "# animated visualization of intrinsic rewards and value function, sweeping over 2D w's\n",
    "w_gran = 50\n",
    "def pol2cart(rho, angle):\n",
    "  x_coord = rho * np.cos(angle)\n",
    "  y_coord = rho * np.sin(angle)\n",
    "  return(x_coord, y_coord)\n",
    "x, y = pol2cart(1, np.linspace(0, 2*np.pi, w_gran))\n",
    "all_w = np.dstack((x, y))[0]\n",
    "if args.sfeat_dim > 2:\n",
    "  all_w = np.concatenate([all_w, np.zeros([w_gran, args.sfeat_dim -2])], -1)\n",
    "\n",
    "for i in range(w_gran):\n",
    "    with torch.no_grad():\n",
    "        per_state_sfeat = algo.sfeat(all_state).cpu().numpy()\n",
    "        task = all_w[i]\n",
    "        task_torch = torch.FloatTensor(task).unsqueeze(0).repeat(num_states, 1).to(device)\n",
    "        per_state_q = algo.critic(all_state, task_torch, gpi=False)\n",
    "        per_state_q = per_state_q.cpu().numpy()\n",
    "    max_value_img = np.mean(per_state_q, -1).reshape([grid_size, grid_size])\n",
    "    policy = np.argmax(per_state_q, -1)\n",
    "    state_visit = np.ones([num_states])\n",
    "    state = reset(size=1000)\n",
    "    for t in trange(args.max_epilen):\n",
    "        state = step(state, policy[state])\n",
    "        visit, count = np.unique(state, return_counts=True)\n",
    "        state_visit[visit] += count\n",
    "    \n",
    "    clear_output(wait=True)\n",
    "    plt.figure(0)\n",
    "    plt.subplot(231)\n",
    "    plt.title('imagined reward')\n",
    "    plt.axis('off')\n",
    "    plt.imshow(np.dot(per_state_sfeat, all_w[i]).reshape([grid_size, grid_size]), interpolation='none', aspect='equal')\n",
    "    plt.subplot(232)\n",
    "    plt.title('max q value')\n",
    "    plt.axis('off')\n",
    "    plt.imshow(max_value_img, interpolation='none', aspect='equal')\n",
    "    plt.subplot(233)\n",
    "    plt.title('log visitation')\n",
    "    plt.axis('off')\n",
    "    plt.imshow(np.log(state_visit.reshape([grid_size, grid_size])), interpolation='none', aspect='equal')\n",
    "    plt.subplot(234)\n",
    "    plt.title('current task')\n",
    "    plt.plot([0, all_w[i, 0]], [0, all_w[i, 1]])\n",
    "    plt.xlim([-1, 1])\n",
    "    plt.ylim([-1, 1])\n",
    "    plt.subplot(235)\n",
    "    plt.title('policy')\n",
    "    plt.axis('off')\n",
    "    plt.imshow(policy.reshape([grid_size, grid_size]), interpolation='none', aspect='equal')\n",
    "    plt.show()"
   ]
  },
  {
   "cell_type": "code",
   "execution_count": 10,
   "id": "short-olympus",
   "metadata": {
    "ExecuteTime": {
     "end_time": "2021-03-09T20:36:22.504053Z",
     "start_time": "2021-03-09T20:36:20.087901Z"
    }
   },
   "outputs": [
    {
     "data": {
      "image/png": "[encoded data removed]",
      "text/plain": [
       "<Figure size 432x288 with 49 Axes>"
      ]
     },
     "metadata": {
      "needs_background": "light"
     },
     "output_type": "display_data"
    },
    {
     "data": {
      "image/png": "[encoded data removed]",
      "text/plain": [
       "<Figure size 432x288 with 49 Axes>"
      ]
     },
     "metadata": {
      "needs_background": "light"
     },
     "output_type": "display_data"
    }
   ],
   "source": [
    "# static visualization of intrinsic rewards and value function, sweeping over 2D w's\n",
    "plot_size = 7\n",
    "w_gran = int(plot_size**2)\n",
    "for i in range(w_gran):\n",
    "    with torch.no_grad():\n",
    "        task = algo.select_task((1, args.sfeat_dim)).repeat(num_states, 1)\n",
    "        per_state_sfeat = algo.sfeat(all_state).cpu().numpy()\n",
    "        per_state_q = algo.critic(all_state, task, gpi=False)\n",
    "        per_state_q = per_state_q.cpu().numpy()\n",
    "    max_value_img = np.mean(per_state_q, -1).reshape([grid_size, grid_size])\n",
    "    plt.figure(0)\n",
    "    plt.suptitle('imagined reward')\n",
    "    plt.subplot(plot_size, plot_size, i+1)\n",
    "    plt.axis('off')\n",
    "    plt.imshow(np.dot(per_state_sfeat, task[0].cpu().numpy()).reshape([grid_size, grid_size]), interpolation='none', aspect='equal')\n",
    "    plt.figure(1)\n",
    "    plt.suptitle('max q value')\n",
    "    plt.subplot(plot_size, plot_size, i+1)\n",
    "    plt.axis('off')\n",
    "    plt.imshow(max_value_img, interpolation='none', aspect='equal')"
   ]
  },
  {
   "cell_type": "code",
   "execution_count": 11,
   "id": "sized-wireless",
   "metadata": {
    "ExecuteTime": {
     "end_time": "2021-03-09T20:36:22.632353Z",
     "start_time": "2021-03-09T20:36:22.505576Z"
    }
   },
   "outputs": [
    {
     "data": {
      "image/png": "[encoded data removed]",
      "text/plain": [
       "<Figure size 432x288 with 5 Axes>"
      ]
     },
     "metadata": {
      "needs_background": "light"
     },
     "output_type": "display_data"
    }
   ],
   "source": [
    "# visualize each feature dimensions per state\n",
    "plt.figure()\n",
    "plt.suptitle('per dim phi values')\n",
    "for j in range(args.sfeat_dim):\n",
    "    plt.subplot(1, args.sfeat_dim, j+1)\n",
    "    plt.axis('off')\n",
    "    plt.imshow(per_state_sfeat[:, j].reshape([grid_size, grid_size]), interpolation='none', aspect='equal')"
   ]
  },
  {
   "cell_type": "code",
   "execution_count": null,
   "id": "western-lingerie",
   "metadata": {},
   "outputs": [],
   "source": []
  }
 ],
 "metadata": {
  "kernelspec": {
   "display_name": "Python 3",
   "language": "python",
   "name": "python3"
  },
  "language_info": {
   "codemirror_mode": {
    "name": "ipython",
    "version": 3
   },
   "file_extension": ".py",
   "mimetype": "text/x-python",
   "name": "python",
   "nbconvert_exporter": "python",
   "pygments_lexer": "ipython3",
   "version": "3.6.3"
  },
  "notify_time": "10",
  "toc": {
   "base_numbering": 1,
   "nav_menu": {},
   "number_sections": true,
   "sideBar": true,
   "skip_h1_title": false,
   "title_cell": "Table of Contents",
   "title_sidebar": "Contents",
   "toc_cell": false,
   "toc_position": {},
   "toc_section_display": true,
   "toc_window_display": false
  },
  "varInspector": {
   "cols": {
    "lenName": 16,
    "lenType": 16,
    "lenVar": 40
   },
   "kernels_config": {
    "python": {
     "delete_cmd_postfix": "",
     "delete_cmd_prefix": "del ",
     "library": "var_list.py",
     "varRefreshCmd": "print(var_dic_list())"
    },
    "r": {
     "delete_cmd_postfix": ") ",
     "delete_cmd_prefix": "rm(",
     "library": "var_list.r",
     "varRefreshCmd": "cat(var_dic_list()) "
    }
   },
   "types_to_exclude": [
    "module",
    "function",
    "builtin_function_or_method",
    "instance",
    "_Feature"
   ],
   "window_display": false
  }
 },
 "nbformat": 4,
 "nbformat_minor": 5
}
